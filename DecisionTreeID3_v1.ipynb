{
 "cells": [
  {
   "cell_type": "code",
   "execution_count": 88,
   "metadata": {
    "collapsed": false
   },
   "outputs": [],
   "source": [
    "####Building a decision tree in Python####\n",
    "import math\n",
    "from collections import Counter, defaultdict\n",
    "from functools import partial\n",
    "from itertools import izip\n",
    "from __future__ import division\n",
    "\n",
    "\n",
    "#creating a list of tuples (dictionary + label) that will serve as \"data\" for the decision tree algorithm:\n",
    "\n",
    "#attributes: \n",
    "#genre: What genre of game? (RPG, FPS, Action)\n",
    "#console: What console? (N64, SNES, PS2)\n",
    "#multiplayer: Is the game multiplayer?\n",
    "#3D: Is the game in a 3D space? (polygonal)\n",
    "\n",
    "trainingData = [\n",
    "        ({'genre':'RPG','console':'N64','multiplayer':'no','3D':'no'},   False),\n",
    "        ({'genre':'RPG','console':'N64','multiplayer':'no','3D':'yes'},  False),\n",
    "        ({'genre':'Action','console':'PS2','multiplayer':'no','3D':'no'},     True),\n",
    "        ({'genre':'FPS','console':'PS2','multiplayer':'no','3D':'no'},  True),\n",
    "        ({'genre':'FPS','console':'SNES','multiplayer':'yes','3D':'no'},      True),\n",
    "        ({'genre':'RPG','console':'SNES','multiplayer':'yes','3D':'no'},    False),\n",
    "        ({'genre':'Action','console':'PS2','multiplayer':'no','3D':'yes'},    True),\n",
    "        ({'genre':'Action','console':'N64','multiplayer':'yes','3D':'no'},      True),\n",
    "        ({'genre':'FPS','console':'PS2','multiplayer':'no','3D':'yes'},False),\n",
    "        ({'genre':'RPG','console':'N64','multiplayer':'yes','3D':'yes'},    True),\n",
    "        ({'genre':'RPG','console':'PS2','multiplayer':'no','3D':'yes'},    True),\n",
    "        ({'genre':'Action','console':'N64','multiplayer':'no','3D':'yes'},    False)\n",
    "    ]\n",
    "\n",
    "testingData = [\n",
    "        {'genre':'Action','console':'PS2','multiplayer':'yes','3D':'no'},\n",
    "        {'genre':'FPS','console':'PS2','multiplayer':'yes','3D':'no'},\n",
    "        {'genre':'RPG','console':'SNES','multiplayer':'no','3D':'yes'},\n",
    "        {'genre':'Action','console':'N64','multiplayer':'yes','3D':'yes'},\n",
    "        {'genre':'RPG','console':'N64','multiplayer':'yes','3D':'no'},\n",
    "        {'genre':'RPG','console':'PS2','multiplayer':'yes','3D':'no'},\n",
    "        {'genre':'Action','console':'N64','multiplayer':'yes','3D':'yes'},\n",
    "        {'genre':'RPG','console':'PS2','multiplayer':'no','3D':'no'},\n",
    "        {'genre':'Action','console':'SNES','multiplayer':'no','3D':'yes'},\n",
    "    ]\n",
    "\n",
    "#Finding entropy across an entire data-set:\n",
    "def entropy(labelProportions):\n",
    "    sum = 0\n",
    "    for p in labelProportions:\n",
    "        #entropy for each proportion\n",
    "        sum += -p*math.log(p,2)\n",
    "    return sum\n",
    "\n",
    "def datasetEntropy(data):\n",
    "    #labels = []\n",
    "    #for label in data:\n",
    "       # temp = data[]\n",
    "        #labels = data[label]\n",
    "    labels = [label for _, label in data]\n",
    "    proportions = labelProportions(labels)\n",
    "    return entropy(proportions)\n",
    "\n",
    "#labelProportions will return a list of proportions for each label in the set\n",
    "def labelProportions(labels):\n",
    "    partitions = []\n",
    "    totalObservations = len(labels)\n",
    "    #return [count/totalObservations for count in Counter(labels).values()]\n",
    "    for count in Counter(labels).values():\n",
    "        partitions.append(count/totalObservations)\n",
    "    return partitions\n",
    "        \n",
    "#handles the partitioning\n",
    "def partition(inputs, attribute):\n",
    "    groups = defaultdict(list)\n",
    "    for input in inputs:\n",
    "        key =  input[0][attribute]\n",
    "        #print key\n",
    "        groups[key].append(input)\n",
    "    return groups\n",
    "\n",
    "#finds the entropy of the partition, using the entropy method created earlier    \n",
    "def partitionEntropy(subsets):\n",
    "    freq = 0\n",
    "    totalCount = 0\n",
    "    \n",
    "    for subset in subsets:\n",
    "        freq+=len(subset)\n",
    "        \n",
    "    for subset in subsets:\n",
    "        totalCount += datasetEntropy(subset)*len(subset)/freq\n",
    "    return totalCount\n",
    "\n",
    "def partEntropyBuilder(inputs, attribute):\n",
    "    partitions = partition(inputs, attribute)\n",
    "    return partitionEntropy(partitions.values())\n",
    "\n",
    "\n",
    "#####Builds the tree based on the calculations of entropy above#####\n",
    "\n",
    "def treeBuilder(data, possSplit = None):\n",
    "    #starting with any potential splits as a parameter - dont want it in the code for recursion purposes\n",
    "    if possSplit is None:\n",
    "        possSplit = data[0][0].keys()\n",
    "       \n",
    "    #Determine terminal leaf nodes of the tree by finding the number of binary labels\n",
    "    #Only accounting for a binary tree in which the label can be one of two values\n",
    "    totalCount = len(data)\n",
    "    \n",
    "    #count the frequency of one label \n",
    "       # for item, label in data:\n",
    "           # if label:\n",
    "            \n",
    "    #labelTwoTotal = totalCount - labelOneTotal\n",
    "    #List comprehension to find the total amount of the 'yes' or 'true' labels\n",
    "    labelOneTotal = len([label for item, label in data if label])\n",
    "    #print labelOneTotal\n",
    "    #count number of other possible label\n",
    "    labelTwoTotal = totalCount - labelOneTotal\n",
    "    \n",
    "    #Finally return a labelOne or labelTwo leaf node if they contain 100% of one label\n",
    "    if labelOneTotal == 0:\n",
    "        return False\n",
    "    if labelTwoTotal == 0:\n",
    "        return True\n",
    "    \n",
    "    #Return the most frequent label for a leaf node if there are no attributes left to split \n",
    "    #will only do this if the list of possible attributes to split on is empty. that means a leaf needs to be returned\n",
    "    #labelOneTotal is the number of true statements, therefore it should be returning true if the total is greater \n",
    "    if not possSplit:\n",
    "        if labelOneTotal > labelTwoTotal:\n",
    "            return True\n",
    "        else:\n",
    "            return False  \n",
    "    #max(labelOneTotal, labelTwoTotal)\n",
    "    \n",
    "    #was stuck on this portion for a while, but then I looked up a few examples and stumbled upon partials, which actually was a new concept to me\n",
    "    #the partial function allows you to essentially 'fill' a function's parameter's before it is being called\n",
    "    #here I'm  are a new function with less parameters than what it takes\n",
    "    #split on lowest entroy by partition\n",
    "    #getPartitionEntropy = partEntropyBuilder(data, possSplit)\n",
    "    #print getPartitionEntropy\n",
    "    \n",
    "    #optimalAttri = min(possSplit, getPartitionEntropy)\n",
    "    optimalAttri = min(possSplit, key = partial(partEntropyBuilder, data))\n",
    "    \n",
    "    sections = partition(data, optimalAttri)\n",
    "    \n",
    "    #Create new set of attributes that will can be evaluated for further split\n",
    "    splitNewPool = [i for i in possSplit if i != optimalAttri]\n",
    "    \n",
    "    #build the rest of the subtrees\n",
    "    #substrees will be dictionaries just like the general tree\n",
    "    sTrees = {attriValue : treeBuilder(subset, splitNewPool) for attriValue, subset in sections.iteritems()}\n",
    "    \n",
    "    #required if the new data does not have the correct information that matches the tree\n",
    "    sTrees[None] = labelOneTotal > labelTwoTotal\n",
    "    \n",
    "    return [optimalAttri, sTrees]\n",
    "    \n",
    "                    "
   ]
  },
  {
   "cell_type": "code",
   "execution_count": 89,
   "metadata": {
    "collapsed": false
   },
   "outputs": [],
   "source": [
    "videoGameTree = treeBuilder(trainingData)"
   ]
  },
  {
   "cell_type": "code",
   "execution_count": 90,
   "metadata": {
    "collapsed": false
   },
   "outputs": [
    {
     "name": "stdout",
     "output_type": "stream",
     "text": [
      "['console', {'PS2': ['genre', {'Action': True, None: True, 'FPS': ['3D', {'yes': False, None: False, 'no': True}], 'RPG': True}], 'N64': ['multiplayer', {'yes': True, None: False, 'no': False}], None: True, 'SNES': ['genre', {None: False, 'FPS': True, 'RPG': False}]}]\n"
     ]
    }
   ],
   "source": [
    "print videoGameTree"
   ]
  },
  {
   "cell_type": "code",
   "execution_count": 91,
   "metadata": {
    "collapsed": false
   },
   "outputs": [],
   "source": [
    "#Need a way to determine what new data would be classified as (should I play it or not?)\n",
    "#takes a tree (dictionary and test data (list of labels and dictionaries))\n",
    "def findLabel(tree, newData):\n",
    "    \n",
    "    #start with the leaf case - if so return the value of the leaf and you're done finding the label\n",
    "    if tree in [True, False]:\n",
    "        return tree\n",
    "    \n",
    "    #start from the top of the tree and get the first attribute\n",
    "    attri, subtreeDictionary = tree\n",
    "    subKey = newData.get(attri)\n",
    "    \n",
    "    #handles none case\n",
    "    if subKey not in subtreeDictionary:\n",
    "        subKey = None\n",
    "        \n",
    "    #moves to the appropriate subtree\n",
    "    subtree = subtreeDictionary.get(subKey)\n",
    "    \n",
    "    #back to searching the tree\n",
    "    return findLabel(subtree, newData)\n",
    "    \n",
    "    "
   ]
  },
  {
   "cell_type": "code",
   "execution_count": 92,
   "metadata": {
    "collapsed": false
   },
   "outputs": [
    {
     "name": "stdout",
     "output_type": "stream",
     "text": [
      "True\n",
      "True\n",
      "False\n",
      "True\n",
      "True\n",
      "True\n",
      "True\n",
      "True\n",
      "False\n"
     ]
    }
   ],
   "source": [
    "#seeing if this will come up with labels for unlabeled data called \"testing data\"\n",
    "for item in testingData:\n",
    "    print findLabel(videoGameTree, item)"
   ]
  },
  {
   "cell_type": "code",
   "execution_count": 112,
   "metadata": {
    "collapsed": false
   },
   "outputs": [
    {
     "name": "stdout",
     "output_type": "stream",
     "text": [
      "{'console': {'PS2': ['genre', {'Action': True, None: True, 'FPS': ['3D', {'yes': False, None: False, 'no': True}], 'RPG': True}], 'N64': ['multiplayer', {'yes': True, None: False, 'no': False}], None: True, 'SNES': ['genre', {None: False, 'FPS': True, 'RPG': False}]}}\n",
      "<type 'dict'>\n",
      "['console', {'PS2': ['genre', {'Action': True, None: True, 'FPS': ['3D', {'yes': False, None: False, 'no': True}], 'RPG': True}], 'N64': ['multiplayer', {'yes': True, None: False, 'no': False}], None: True, 'SNES': ['genre', {None: False, 'FPS': True, 'RPG': False}]}]\n"
     ]
    }
   ],
   "source": [
    "i = iter(videoGameTree)\n",
    "videoGameDictTree = dict(izip(i,i))\n",
    "print videoGameDictTree"
   ]
  },
  {
   "cell_type": "code",
   "execution_count": 134,
   "metadata": {
    "collapsed": false
   },
   "outputs": [],
   "source": [
    "#def reduceTree(tree):\n",
    "    #navigate to the bottom of the tree:\n",
    "    #for key, node in tree.items():\n",
    "        #if isinstance(node, dict):\n",
    "            #tree[key] = reduceTree(node)\n",
    "    #if some statement is true\n",
    "        #remove subtree, replacing with new leaf value\n",
    "    #return tree"
   ]
  },
  {
   "cell_type": "code",
   "execution_count": 135,
   "metadata": {
    "collapsed": false
   },
   "outputs": [
    {
     "name": "stdout",
     "output_type": "stream",
     "text": [
      "{'PS2': ['genre', {'Action': True, None: True, 'FPS': ['3D', {'yes': False, None: False, 'no': True}], 'RPG': True}], 'N64': ['multiplayer', {'yes': True, None: False, 'no': False}], None: True, 'SNES': ['genre', {None: False, 'FPS': True, 'RPG': False}]}\n",
      "{'console': None}\n"
     ]
    }
   ],
   "source": [
    "#reduceTree(videoGameDictTree)"
   ]
  },
  {
   "cell_type": "code",
   "execution_count": null,
   "metadata": {
    "collapsed": true
   },
   "outputs": [],
   "source": []
  }
 ],
 "metadata": {
  "anaconda-cloud": {},
  "kernelspec": {
   "display_name": "Python [Root]",
   "language": "python",
   "name": "Python [Root]"
  },
  "language_info": {
   "codemirror_mode": {
    "name": "ipython",
    "version": 2
   },
   "file_extension": ".py",
   "mimetype": "text/x-python",
   "name": "python",
   "nbconvert_exporter": "python",
   "pygments_lexer": "ipython2",
   "version": "2.7.12"
  }
 },
 "nbformat": 4,
 "nbformat_minor": 0
}
